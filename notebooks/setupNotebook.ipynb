{
 "cells": [
  {
   "cell_type": "markdown",
   "metadata": {},
   "source": [
    "# Setting up required R packages\n",
    "\n",
    "by Jonas Peters, Niklas Pfister, 22.8.2017\n",
    "\n",
    "This notebook is to make sure that you can use the notebooks we provide. In particular, you need to have the following packages installed. You can execute the following code by pressing Shift + Enter."
   ]
  },
  {
   "cell_type": "code",
   "execution_count": null,
   "metadata": {},
   "outputs": [],
   "source": [
    "library(CondIndTests)\n",
    "library(ppcor)\n",
    "library(dHSIC)\n",
    "library(seqICP)\n",
    "library(InvariantCausalPrediction)\n",
    "library(MASS)\n",
    "library(mgcv)\n",
    "library(AER)\n",
    "library(igraph)\n",
    "show(\"Your all set!\")"
   ]
  },
  {
   "cell_type": "markdown",
   "metadata": {},
   "source": [
    "If the above code produced an error this means you are missing a package. You can install these directly from within this notebook. Just uncomment the required line in the following code."
   ]
  },
  {
   "cell_type": "code",
   "execution_count": null,
   "metadata": {},
   "outputs": [],
   "source": [
    "#install.packages(\"CondIndTests\")\n",
    "#install.packages(\"ppcor\")\n",
    "#install.packages(\"dHSIC\")\n",
    "#install.packages(\"seqICP\")\n",
    "#install.packages(\"InvariantCausalPrediction\")\n",
    "#install.packages(\"MASS\")\n",
    "#install.packages(\"mgcv\")\n",
    "#install.packages(\"AER\")\n",
    "#install.packages(\"igraph\")"
   ]
  },
  {
   "cell_type": "markdown",
   "metadata": {},
   "source": [
    "Don't worry if you are not able to install the package <tt>igraph</tt>. It is known to cause problems with mac computers and is not essential for our notebooks."
   ]
  }
 ],
 "metadata": {
  "anaconda-cloud": {},
  "kernelspec": {
   "display_name": "R",
   "language": "R",
   "name": "ir"
  },
  "language_info": {
   "codemirror_mode": "r",
   "file_extension": ".r",
   "mimetype": "text/x-r-source",
   "name": "R",
   "pygments_lexer": "r",
   "version": "3.5.2"
  }
 },
 "nbformat": 4,
 "nbformat_minor": 2
}
